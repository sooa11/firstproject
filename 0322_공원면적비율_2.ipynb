{
  "cells": [
    {
      "cell_type": "code",
      "execution_count": null,
      "id": "309ebe62",
      "metadata": {
        "id": "309ebe62"
      },
      "outputs": [],
      "source": [
        "import numpy as np\n",
        "import pandas as pd\n",
        "import seaborn as sns\n",
        "import matplotlib as mpl\n",
        "import matplotlib.pyplot as plt\n",
        "mpl.rcParams['axes.unicode_minus'] = False\n",
        "plt.rc('font',family='Malgun Gothic')"
      ]
    },
    {
      "cell_type": "code",
      "execution_count": null,
      "id": "2008c1d8",
      "metadata": {
        "id": "2008c1d8",
        "outputId": "5874d23d-c37f-41f9-c339-556cae8c1afd"
      },
      "outputs": [
        {
          "data": {
            "text/html": [
              "<div>\n",
              "<style scoped>\n",
              "    .dataframe tbody tr th:only-of-type {\n",
              "        vertical-align: middle;\n",
              "    }\n",
              "\n",
              "    .dataframe tbody tr th {\n",
              "        vertical-align: top;\n",
              "    }\n",
              "\n",
              "    .dataframe thead th {\n",
              "        text-align: right;\n",
              "    }\n",
              "</style>\n",
              "<table border=\"1\" class=\"dataframe\">\n",
              "  <thead>\n",
              "    <tr style=\"text-align: right;\">\n",
              "      <th></th>\n",
              "      <th>공원명</th>\n",
              "      <th>지역</th>\n",
              "      <th>경도</th>\n",
              "      <th>위도</th>\n",
              "      <th>면적</th>\n",
              "      <th>분류</th>\n",
              "      <th>크기</th>\n",
              "    </tr>\n",
              "  </thead>\n",
              "  <tbody>\n",
              "    <tr>\n",
              "      <th>0</th>\n",
              "      <td>남산도시자연공원</td>\n",
              "      <td>중구</td>\n",
              "      <td>126.990377</td>\n",
              "      <td>37.550140</td>\n",
              "      <td>2896887</td>\n",
              "      <td>대형</td>\n",
              "      <td>15</td>\n",
              "    </tr>\n",
              "    <tr>\n",
              "      <th>1</th>\n",
              "      <td>길동생태공원</td>\n",
              "      <td>강동구</td>\n",
              "      <td>127.154779</td>\n",
              "      <td>37.540394</td>\n",
              "      <td>80683</td>\n",
              "      <td>소형</td>\n",
              "      <td>3</td>\n",
              "    </tr>\n",
              "    <tr>\n",
              "      <th>2</th>\n",
              "      <td>서울대공원</td>\n",
              "      <td>과천시</td>\n",
              "      <td>127.019846</td>\n",
              "      <td>37.426449</td>\n",
              "      <td>9132690</td>\n",
              "      <td>대형</td>\n",
              "      <td>15</td>\n",
              "    </tr>\n",
              "    <tr>\n",
              "      <th>3</th>\n",
              "      <td>서울숲</td>\n",
              "      <td>성동구</td>\n",
              "      <td>127.041798</td>\n",
              "      <td>37.543072</td>\n",
              "      <td>480994</td>\n",
              "      <td>중형</td>\n",
              "      <td>7</td>\n",
              "    </tr>\n",
              "    <tr>\n",
              "      <th>4</th>\n",
              "      <td>월드컵공원</td>\n",
              "      <td>마포구</td>\n",
              "      <td>126.878907</td>\n",
              "      <td>37.571805</td>\n",
              "      <td>2284085</td>\n",
              "      <td>대형</td>\n",
              "      <td>15</td>\n",
              "    </tr>\n",
              "  </tbody>\n",
              "</table>\n",
              "</div>"
            ],
            "text/plain": [
              "        공원명   지역          경도         위도       면적  분류  크기\n",
              "0  남산도시자연공원   중구  126.990377  37.550140  2896887  대형  15\n",
              "1    길동생태공원  강동구  127.154779  37.540394    80683  소형   3\n",
              "2     서울대공원  과천시  127.019846  37.426449  9132690  대형  15\n",
              "3       서울숲  성동구  127.041798  37.543072   480994  중형   7\n",
              "4     월드컵공원  마포구  126.878907  37.571805  2284085  대형  15"
            ]
          },
          "execution_count": 50,
          "metadata": {},
          "output_type": "execute_result"
        }
      ],
      "source": [
        "park = pd.read_csv('./서울공원요약.csv')\n",
        "park.head()"
      ]
    },
    {
      "cell_type": "markdown",
      "id": "3e558f35",
      "metadata": {
        "id": "3e558f35"
      },
      "source": [
        "# 1. 자치구별 공원면적과 공원수"
      ]
    },
    {
      "cell_type": "code",
      "execution_count": null,
      "id": "b1a21cb1",
      "metadata": {
        "id": "b1a21cb1",
        "outputId": "76d896da-ca56-4778-d207-145a7f18292f"
      },
      "outputs": [
        {
          "data": {
            "text/html": [
              "<div>\n",
              "<style scoped>\n",
              "    .dataframe tbody tr th:only-of-type {\n",
              "        vertical-align: middle;\n",
              "    }\n",
              "\n",
              "    .dataframe tbody tr th {\n",
              "        vertical-align: top;\n",
              "    }\n",
              "\n",
              "    .dataframe thead th {\n",
              "        text-align: right;\n",
              "    }\n",
              "</style>\n",
              "<table border=\"1\" class=\"dataframe\">\n",
              "  <thead>\n",
              "    <tr style=\"text-align: right;\">\n",
              "      <th></th>\n",
              "      <th>sum</th>\n",
              "      <th>count</th>\n",
              "    </tr>\n",
              "    <tr>\n",
              "      <th>지역</th>\n",
              "      <th></th>\n",
              "      <th></th>\n",
              "    </tr>\n",
              "  </thead>\n",
              "  <tbody>\n",
              "    <tr>\n",
              "      <th>강남구</th>\n",
              "      <td>3626398</td>\n",
              "      <td>7</td>\n",
              "    </tr>\n",
              "    <tr>\n",
              "      <th>강동구</th>\n",
              "      <td>1526390</td>\n",
              "      <td>7</td>\n",
              "    </tr>\n",
              "    <tr>\n",
              "      <th>강북구</th>\n",
              "      <td>3714902</td>\n",
              "      <td>4</td>\n",
              "    </tr>\n",
              "    <tr>\n",
              "      <th>강서구</th>\n",
              "      <td>2194154</td>\n",
              "      <td>9</td>\n",
              "    </tr>\n",
              "    <tr>\n",
              "      <th>과천시</th>\n",
              "      <td>9132690</td>\n",
              "      <td>1</td>\n",
              "    </tr>\n",
              "  </tbody>\n",
              "</table>\n",
              "</div>"
            ],
            "text/plain": [
              "         sum  count\n",
              "지역                 \n",
              "강남구  3626398      7\n",
              "강동구  1526390      7\n",
              "강북구  3714902      4\n",
              "강서구  2194154      9\n",
              "과천시  9132690      1"
            ]
          },
          "execution_count": 51,
          "metadata": {},
          "output_type": "execute_result"
        }
      ],
      "source": [
        "df = park.groupby('지역')['면적'].agg(['sum','count'])\n",
        "df.head()"
      ]
    },
    {
      "cell_type": "code",
      "execution_count": null,
      "id": "7f5e07d8",
      "metadata": {
        "id": "7f5e07d8",
        "outputId": "46ad8590-3bdf-4e43-e488-d88ec87a703b"
      },
      "outputs": [
        {
          "data": {
            "text/plain": [
              "(26, 2)"
            ]
          },
          "execution_count": 52,
          "metadata": {},
          "output_type": "execute_result"
        }
      ],
      "source": [
        "df.shape"
      ]
    },
    {
      "cell_type": "code",
      "execution_count": null,
      "id": "4a2fe22e",
      "metadata": {
        "id": "4a2fe22e"
      },
      "outputs": [],
      "source": [
        "df.drop(index='과천시', inplace=True)"
      ]
    },
    {
      "cell_type": "code",
      "execution_count": null,
      "id": "363f143d",
      "metadata": {
        "id": "363f143d",
        "outputId": "c5d00ba3-cb7c-436b-faa9-4192191281b0"
      },
      "outputs": [
        {
          "data": {
            "text/plain": [
              "(25, 2)"
            ]
          },
          "execution_count": 54,
          "metadata": {},
          "output_type": "execute_result"
        }
      ],
      "source": [
        "df.shape"
      ]
    },
    {
      "cell_type": "markdown",
      "id": "6383f322",
      "metadata": {
        "id": "6383f322"
      },
      "source": [
        "# 구별 공원면적 비율 및 인당공원 면적비교"
      ]
    },
    {
      "cell_type": "code",
      "execution_count": null,
      "id": "a7672def",
      "metadata": {
        "id": "a7672def",
        "outputId": "e3c95a91-067f-4fbb-9db7-31a2ca043ba2"
      },
      "outputs": [
        {
          "data": {
            "text/html": [
              "<div>\n",
              "<style scoped>\n",
              "    .dataframe tbody tr th:only-of-type {\n",
              "        vertical-align: middle;\n",
              "    }\n",
              "\n",
              "    .dataframe tbody tr th {\n",
              "        vertical-align: top;\n",
              "    }\n",
              "\n",
              "    .dataframe thead th {\n",
              "        text-align: right;\n",
              "    }\n",
              "</style>\n",
              "<table border=\"1\" class=\"dataframe\">\n",
              "  <thead>\n",
              "    <tr style=\"text-align: right;\">\n",
              "      <th></th>\n",
              "      <th>기간</th>\n",
              "      <th>지역</th>\n",
              "      <th>인구</th>\n",
              "      <th>면적</th>\n",
              "      <th>인구밀도(명/㎢)</th>\n",
              "    </tr>\n",
              "  </thead>\n",
              "  <tbody>\n",
              "    <tr>\n",
              "      <th>0</th>\n",
              "      <td>2020</td>\n",
              "      <td>합계</td>\n",
              "      <td>9,911,088</td>\n",
              "      <td>605.23</td>\n",
              "      <td>16,376</td>\n",
              "    </tr>\n",
              "    <tr>\n",
              "      <th>1</th>\n",
              "      <td>2020</td>\n",
              "      <td>종로구</td>\n",
              "      <td>158,996</td>\n",
              "      <td>23.91</td>\n",
              "      <td>6,649</td>\n",
              "    </tr>\n",
              "    <tr>\n",
              "      <th>2</th>\n",
              "      <td>2020</td>\n",
              "      <td>중구</td>\n",
              "      <td>134,635</td>\n",
              "      <td>9.96</td>\n",
              "      <td>13,517</td>\n",
              "    </tr>\n",
              "    <tr>\n",
              "      <th>3</th>\n",
              "      <td>2020</td>\n",
              "      <td>용산구</td>\n",
              "      <td>244,645</td>\n",
              "      <td>21.87</td>\n",
              "      <td>11,188</td>\n",
              "    </tr>\n",
              "    <tr>\n",
              "      <th>4</th>\n",
              "      <td>2020</td>\n",
              "      <td>성동구</td>\n",
              "      <td>300,505</td>\n",
              "      <td>16.86</td>\n",
              "      <td>17,822</td>\n",
              "    </tr>\n",
              "  </tbody>\n",
              "</table>\n",
              "</div>"
            ],
            "text/plain": [
              "     기간   지역         인구      면적 인구밀도(명/㎢)\n",
              "0  2020   합계  9,911,088  605.23    16,376\n",
              "1  2020  종로구    158,996   23.91     6,649\n",
              "2  2020   중구    134,635    9.96    13,517\n",
              "3  2020  용산구    244,645   21.87    11,188\n",
              "4  2020  성동구    300,505   16.86    17,822"
            ]
          },
          "execution_count": 55,
          "metadata": {},
          "output_type": "execute_result"
        }
      ],
      "source": [
        "seoul_df = pd.read_csv('./서울시 인구와 면적.txt',sep='\\t')\n",
        "seoul_df.head()"
      ]
    },
    {
      "cell_type": "code",
      "execution_count": null,
      "id": "ac85cd32",
      "metadata": {
        "id": "ac85cd32",
        "outputId": "12d2a62c-2847-4feb-df0f-5211df756a0f"
      },
      "outputs": [
        {
          "data": {
            "text/html": [
              "<div>\n",
              "<style scoped>\n",
              "    .dataframe tbody tr th:only-of-type {\n",
              "        vertical-align: middle;\n",
              "    }\n",
              "\n",
              "    .dataframe tbody tr th {\n",
              "        vertical-align: top;\n",
              "    }\n",
              "\n",
              "    .dataframe thead th {\n",
              "        text-align: right;\n",
              "    }\n",
              "</style>\n",
              "<table border=\"1\" class=\"dataframe\">\n",
              "  <thead>\n",
              "    <tr style=\"text-align: right;\">\n",
              "      <th></th>\n",
              "      <th>기간</th>\n",
              "      <th>지역</th>\n",
              "      <th>인구</th>\n",
              "      <th>면적</th>\n",
              "      <th>인구밀도(명/㎢)</th>\n",
              "    </tr>\n",
              "  </thead>\n",
              "  <tbody>\n",
              "    <tr>\n",
              "      <th>1</th>\n",
              "      <td>2020</td>\n",
              "      <td>종로구</td>\n",
              "      <td>158,996</td>\n",
              "      <td>23.91</td>\n",
              "      <td>6,649</td>\n",
              "    </tr>\n",
              "    <tr>\n",
              "      <th>2</th>\n",
              "      <td>2020</td>\n",
              "      <td>중구</td>\n",
              "      <td>134,635</td>\n",
              "      <td>9.96</td>\n",
              "      <td>13,517</td>\n",
              "    </tr>\n",
              "    <tr>\n",
              "      <th>3</th>\n",
              "      <td>2020</td>\n",
              "      <td>용산구</td>\n",
              "      <td>244,645</td>\n",
              "      <td>21.87</td>\n",
              "      <td>11,188</td>\n",
              "    </tr>\n",
              "    <tr>\n",
              "      <th>4</th>\n",
              "      <td>2020</td>\n",
              "      <td>성동구</td>\n",
              "      <td>300,505</td>\n",
              "      <td>16.86</td>\n",
              "      <td>17,822</td>\n",
              "    </tr>\n",
              "    <tr>\n",
              "      <th>5</th>\n",
              "      <td>2020</td>\n",
              "      <td>광진구</td>\n",
              "      <td>360,109</td>\n",
              "      <td>17.06</td>\n",
              "      <td>21,105</td>\n",
              "    </tr>\n",
              "  </tbody>\n",
              "</table>\n",
              "</div>"
            ],
            "text/plain": [
              "     기간   지역       인구     면적 인구밀도(명/㎢)\n",
              "1  2020  종로구  158,996  23.91     6,649\n",
              "2  2020   중구  134,635   9.96    13,517\n",
              "3  2020  용산구  244,645  21.87    11,188\n",
              "4  2020  성동구  300,505  16.86    17,822\n",
              "5  2020  광진구  360,109  17.06    21,105"
            ]
          },
          "execution_count": 56,
          "metadata": {},
          "output_type": "execute_result"
        }
      ],
      "source": [
        "seoul_df.drop(index=0,inplace=True)\n",
        "seoul_df.head()"
      ]
    },
    {
      "cell_type": "code",
      "execution_count": null,
      "id": "17a7111e",
      "metadata": {
        "id": "17a7111e",
        "outputId": "8f3dca08-7b22-4979-ba84-292c28e1d928"
      },
      "outputs": [
        {
          "data": {
            "text/plain": [
              "(25, 5)"
            ]
          },
          "execution_count": 57,
          "metadata": {},
          "output_type": "execute_result"
        }
      ],
      "source": [
        "seoul_df.shape"
      ]
    },
    {
      "cell_type": "code",
      "execution_count": null,
      "id": "e635dbbf",
      "metadata": {
        "id": "e635dbbf",
        "outputId": "6670d898-4f7f-4506-84ce-e917e75360af"
      },
      "outputs": [
        {
          "data": {
            "text/html": [
              "<div>\n",
              "<style scoped>\n",
              "    .dataframe tbody tr th:only-of-type {\n",
              "        vertical-align: middle;\n",
              "    }\n",
              "\n",
              "    .dataframe tbody tr th {\n",
              "        vertical-align: top;\n",
              "    }\n",
              "\n",
              "    .dataframe thead th {\n",
              "        text-align: right;\n",
              "    }\n",
              "</style>\n",
              "<table border=\"1\" class=\"dataframe\">\n",
              "  <thead>\n",
              "    <tr style=\"text-align: right;\">\n",
              "      <th></th>\n",
              "      <th>기간</th>\n",
              "      <th>인구</th>\n",
              "      <th>면적</th>\n",
              "      <th>인구밀도(명/㎢)</th>\n",
              "    </tr>\n",
              "    <tr>\n",
              "      <th>지역</th>\n",
              "      <th></th>\n",
              "      <th></th>\n",
              "      <th></th>\n",
              "      <th></th>\n",
              "    </tr>\n",
              "  </thead>\n",
              "  <tbody>\n",
              "    <tr>\n",
              "      <th>종로구</th>\n",
              "      <td>2020</td>\n",
              "      <td>158,996</td>\n",
              "      <td>23.91</td>\n",
              "      <td>6,649</td>\n",
              "    </tr>\n",
              "    <tr>\n",
              "      <th>중구</th>\n",
              "      <td>2020</td>\n",
              "      <td>134,635</td>\n",
              "      <td>9.96</td>\n",
              "      <td>13,517</td>\n",
              "    </tr>\n",
              "    <tr>\n",
              "      <th>용산구</th>\n",
              "      <td>2020</td>\n",
              "      <td>244,645</td>\n",
              "      <td>21.87</td>\n",
              "      <td>11,188</td>\n",
              "    </tr>\n",
              "    <tr>\n",
              "      <th>성동구</th>\n",
              "      <td>2020</td>\n",
              "      <td>300,505</td>\n",
              "      <td>16.86</td>\n",
              "      <td>17,822</td>\n",
              "    </tr>\n",
              "    <tr>\n",
              "      <th>광진구</th>\n",
              "      <td>2020</td>\n",
              "      <td>360,109</td>\n",
              "      <td>17.06</td>\n",
              "      <td>21,105</td>\n",
              "    </tr>\n",
              "  </tbody>\n",
              "</table>\n",
              "</div>"
            ],
            "text/plain": [
              "       기간       인구     면적 인구밀도(명/㎢)\n",
              "지역                                 \n",
              "종로구  2020  158,996  23.91     6,649\n",
              "중구   2020  134,635   9.96    13,517\n",
              "용산구  2020  244,645  21.87    11,188\n",
              "성동구  2020  300,505  16.86    17,822\n",
              "광진구  2020  360,109  17.06    21,105"
            ]
          },
          "execution_count": 58,
          "metadata": {},
          "output_type": "execute_result"
        }
      ],
      "source": [
        "seoul_df.set_index('지역', inplace=True)\n",
        "seoul_df.head()"
      ]
    },
    {
      "cell_type": "code",
      "execution_count": null,
      "id": "98ef45c1",
      "metadata": {
        "id": "98ef45c1",
        "outputId": "53842ae9-91f3-46d6-ae2c-ce1b4f338cb1"
      },
      "outputs": [
        {
          "data": {
            "text/html": [
              "<div>\n",
              "<style scoped>\n",
              "    .dataframe tbody tr th:only-of-type {\n",
              "        vertical-align: middle;\n",
              "    }\n",
              "\n",
              "    .dataframe tbody tr th {\n",
              "        vertical-align: top;\n",
              "    }\n",
              "\n",
              "    .dataframe thead th {\n",
              "        text-align: right;\n",
              "    }\n",
              "</style>\n",
              "<table border=\"1\" class=\"dataframe\">\n",
              "  <thead>\n",
              "    <tr style=\"text-align: right;\">\n",
              "      <th></th>\n",
              "      <th>sum</th>\n",
              "      <th>count</th>\n",
              "      <th>인구</th>\n",
              "      <th>면적</th>\n",
              "    </tr>\n",
              "    <tr>\n",
              "      <th>지역</th>\n",
              "      <th></th>\n",
              "      <th></th>\n",
              "      <th></th>\n",
              "      <th></th>\n",
              "    </tr>\n",
              "  </thead>\n",
              "  <tbody>\n",
              "    <tr>\n",
              "      <th>강남구</th>\n",
              "      <td>3626398</td>\n",
              "      <td>7</td>\n",
              "      <td>544,055</td>\n",
              "      <td>39.50</td>\n",
              "    </tr>\n",
              "    <tr>\n",
              "      <th>강동구</th>\n",
              "      <td>1526390</td>\n",
              "      <td>7</td>\n",
              "      <td>463,998</td>\n",
              "      <td>24.59</td>\n",
              "    </tr>\n",
              "    <tr>\n",
              "      <th>강북구</th>\n",
              "      <td>3714902</td>\n",
              "      <td>4</td>\n",
              "      <td>311,569</td>\n",
              "      <td>23.60</td>\n",
              "    </tr>\n",
              "    <tr>\n",
              "      <th>강서구</th>\n",
              "      <td>2194154</td>\n",
              "      <td>9</td>\n",
              "      <td>585,901</td>\n",
              "      <td>41.44</td>\n",
              "    </tr>\n",
              "    <tr>\n",
              "      <th>관악구</th>\n",
              "      <td>10431453</td>\n",
              "      <td>2</td>\n",
              "      <td>509,803</td>\n",
              "      <td>29.57</td>\n",
              "    </tr>\n",
              "  </tbody>\n",
              "</table>\n",
              "</div>"
            ],
            "text/plain": [
              "          sum  count       인구     면적\n",
              "지역                                  \n",
              "강남구   3626398      7  544,055  39.50\n",
              "강동구   1526390      7  463,998  24.59\n",
              "강북구   3714902      4  311,569  23.60\n",
              "강서구   2194154      9  585,901  41.44\n",
              "관악구  10431453      2  509,803  29.57"
            ]
          },
          "execution_count": 59,
          "metadata": {},
          "output_type": "execute_result"
        }
      ],
      "source": [
        "# 공원집계 테이터와 인구데이터를 합치기\n",
        "df = df.join(seoul_df[['인구', '면적']])\n",
        "df.head()"
      ]
    },
    {
      "cell_type": "code",
      "execution_count": null,
      "id": "e1305ee2",
      "metadata": {
        "id": "e1305ee2"
      },
      "outputs": [],
      "source": [
        "df['면적'] = df.면적 * 1000000"
      ]
    },
    {
      "cell_type": "code",
      "execution_count": null,
      "id": "849d555c",
      "metadata": {
        "id": "849d555c",
        "outputId": "d76da60e-3cc2-4110-fa66-13024da9e60e"
      },
      "outputs": [
        {
          "data": {
            "text/html": [
              "<div>\n",
              "<style scoped>\n",
              "    .dataframe tbody tr th:only-of-type {\n",
              "        vertical-align: middle;\n",
              "    }\n",
              "\n",
              "    .dataframe tbody tr th {\n",
              "        vertical-align: top;\n",
              "    }\n",
              "\n",
              "    .dataframe thead th {\n",
              "        text-align: right;\n",
              "    }\n",
              "</style>\n",
              "<table border=\"1\" class=\"dataframe\">\n",
              "  <thead>\n",
              "    <tr style=\"text-align: right;\">\n",
              "      <th></th>\n",
              "      <th>sum</th>\n",
              "      <th>count</th>\n",
              "      <th>인구</th>\n",
              "      <th>면적</th>\n",
              "    </tr>\n",
              "    <tr>\n",
              "      <th>지역</th>\n",
              "      <th></th>\n",
              "      <th></th>\n",
              "      <th></th>\n",
              "      <th></th>\n",
              "    </tr>\n",
              "  </thead>\n",
              "  <tbody>\n",
              "    <tr>\n",
              "      <th>강남구</th>\n",
              "      <td>3626398</td>\n",
              "      <td>7</td>\n",
              "      <td>544,055</td>\n",
              "      <td>39500000.0</td>\n",
              "    </tr>\n",
              "    <tr>\n",
              "      <th>강동구</th>\n",
              "      <td>1526390</td>\n",
              "      <td>7</td>\n",
              "      <td>463,998</td>\n",
              "      <td>24590000.0</td>\n",
              "    </tr>\n",
              "    <tr>\n",
              "      <th>강북구</th>\n",
              "      <td>3714902</td>\n",
              "      <td>4</td>\n",
              "      <td>311,569</td>\n",
              "      <td>23600000.0</td>\n",
              "    </tr>\n",
              "    <tr>\n",
              "      <th>강서구</th>\n",
              "      <td>2194154</td>\n",
              "      <td>9</td>\n",
              "      <td>585,901</td>\n",
              "      <td>41440000.0</td>\n",
              "    </tr>\n",
              "    <tr>\n",
              "      <th>관악구</th>\n",
              "      <td>10431453</td>\n",
              "      <td>2</td>\n",
              "      <td>509,803</td>\n",
              "      <td>29570000.0</td>\n",
              "    </tr>\n",
              "  </tbody>\n",
              "</table>\n",
              "</div>"
            ],
            "text/plain": [
              "          sum  count       인구          면적\n",
              "지역                                       \n",
              "강남구   3626398      7  544,055  39500000.0\n",
              "강동구   1526390      7  463,998  24590000.0\n",
              "강북구   3714902      4  311,569  23600000.0\n",
              "강서구   2194154      9  585,901  41440000.0\n",
              "관악구  10431453      2  509,803  29570000.0"
            ]
          },
          "execution_count": 61,
          "metadata": {},
          "output_type": "execute_result"
        }
      ],
      "source": [
        "df.head()"
      ]
    },
    {
      "cell_type": "code",
      "execution_count": null,
      "id": "2d852be8",
      "metadata": {
        "id": "2d852be8",
        "outputId": "ccf8c84d-7a62-4778-c5cc-80515936d482"
      },
      "outputs": [
        {
          "name": "stdout",
          "output_type": "stream",
          "text": [
            "<class 'pandas.core.frame.DataFrame'>\n",
            "Index: 25 entries, 강남구 to 중랑구\n",
            "Data columns (total 4 columns):\n",
            " #   Column  Non-Null Count  Dtype  \n",
            "---  ------  --------------  -----  \n",
            " 0   sum     25 non-null     int64  \n",
            " 1   count   25 non-null     int64  \n",
            " 2   인구      25 non-null     object \n",
            " 3   면적      25 non-null     float64\n",
            "dtypes: float64(1), int64(2), object(1)\n",
            "memory usage: 1.5+ KB\n"
          ]
        }
      ],
      "source": [
        "df.info()"
      ]
    },
    {
      "cell_type": "code",
      "execution_count": null,
      "id": "16d7732c",
      "metadata": {
        "id": "16d7732c"
      },
      "outputs": [],
      "source": [
        "df['인구'] = df.인구.apply(lambda x: int(x.replace(',','')))"
      ]
    },
    {
      "cell_type": "code",
      "execution_count": null,
      "id": "ac233493",
      "metadata": {
        "id": "ac233493",
        "outputId": "22e69e98-1ebb-4157-b59e-22f449ef87ba"
      },
      "outputs": [
        {
          "data": {
            "text/html": [
              "<div>\n",
              "<style scoped>\n",
              "    .dataframe tbody tr th:only-of-type {\n",
              "        vertical-align: middle;\n",
              "    }\n",
              "\n",
              "    .dataframe tbody tr th {\n",
              "        vertical-align: top;\n",
              "    }\n",
              "\n",
              "    .dataframe thead th {\n",
              "        text-align: right;\n",
              "    }\n",
              "</style>\n",
              "<table border=\"1\" class=\"dataframe\">\n",
              "  <thead>\n",
              "    <tr style=\"text-align: right;\">\n",
              "      <th></th>\n",
              "      <th>sum</th>\n",
              "      <th>count</th>\n",
              "      <th>인구</th>\n",
              "      <th>면적</th>\n",
              "      <th>면적비율</th>\n",
              "    </tr>\n",
              "    <tr>\n",
              "      <th>지역</th>\n",
              "      <th></th>\n",
              "      <th></th>\n",
              "      <th></th>\n",
              "      <th></th>\n",
              "      <th></th>\n",
              "    </tr>\n",
              "  </thead>\n",
              "  <tbody>\n",
              "    <tr>\n",
              "      <th>강남구</th>\n",
              "      <td>3626398</td>\n",
              "      <td>7</td>\n",
              "      <td>544055</td>\n",
              "      <td>39500000.0</td>\n",
              "      <td>9.180754</td>\n",
              "    </tr>\n",
              "    <tr>\n",
              "      <th>강동구</th>\n",
              "      <td>1526390</td>\n",
              "      <td>7</td>\n",
              "      <td>463998</td>\n",
              "      <td>24590000.0</td>\n",
              "      <td>6.207361</td>\n",
              "    </tr>\n",
              "    <tr>\n",
              "      <th>강북구</th>\n",
              "      <td>3714902</td>\n",
              "      <td>4</td>\n",
              "      <td>311569</td>\n",
              "      <td>23600000.0</td>\n",
              "      <td>15.741110</td>\n",
              "    </tr>\n",
              "    <tr>\n",
              "      <th>강서구</th>\n",
              "      <td>2194154</td>\n",
              "      <td>9</td>\n",
              "      <td>585901</td>\n",
              "      <td>41440000.0</td>\n",
              "      <td>5.294773</td>\n",
              "    </tr>\n",
              "    <tr>\n",
              "      <th>관악구</th>\n",
              "      <td>10431453</td>\n",
              "      <td>2</td>\n",
              "      <td>509803</td>\n",
              "      <td>29570000.0</td>\n",
              "      <td>35.277149</td>\n",
              "    </tr>\n",
              "  </tbody>\n",
              "</table>\n",
              "</div>"
            ],
            "text/plain": [
              "          sum  count      인구          면적       면적비율\n",
              "지역                                                 \n",
              "강남구   3626398      7  544055  39500000.0   9.180754\n",
              "강동구   1526390      7  463998  24590000.0   6.207361\n",
              "강북구   3714902      4  311569  23600000.0  15.741110\n",
              "강서구   2194154      9  585901  41440000.0   5.294773\n",
              "관악구  10431453      2  509803  29570000.0  35.277149"
            ]
          },
          "execution_count": 68,
          "metadata": {},
          "output_type": "execute_result"
        }
      ],
      "source": [
        "df.head()"
      ]
    },
    {
      "cell_type": "code",
      "execution_count": null,
      "id": "c3a2ba5f",
      "metadata": {
        "id": "c3a2ba5f"
      },
      "outputs": [],
      "source": [
        "df['면적비율'] = df['sum'] / df.면적 * 100\n",
        "df['인당면적'] = df['sum'] / df.인구 * 100"
      ]
    },
    {
      "cell_type": "code",
      "execution_count": null,
      "id": "d6bec931",
      "metadata": {
        "id": "d6bec931",
        "outputId": "7a0b0eef-365e-469e-f974-1db9d28e2d72"
      },
      "outputs": [
        {
          "data": {
            "text/html": [
              "<div>\n",
              "<style scoped>\n",
              "    .dataframe tbody tr th:only-of-type {\n",
              "        vertical-align: middle;\n",
              "    }\n",
              "\n",
              "    .dataframe tbody tr th {\n",
              "        vertical-align: top;\n",
              "    }\n",
              "\n",
              "    .dataframe thead th {\n",
              "        text-align: right;\n",
              "    }\n",
              "</style>\n",
              "<table border=\"1\" class=\"dataframe\">\n",
              "  <thead>\n",
              "    <tr style=\"text-align: right;\">\n",
              "      <th></th>\n",
              "      <th>sum</th>\n",
              "      <th>count</th>\n",
              "      <th>인구</th>\n",
              "      <th>면적</th>\n",
              "      <th>면적비율</th>\n",
              "      <th>인당면적</th>\n",
              "    </tr>\n",
              "    <tr>\n",
              "      <th>지역</th>\n",
              "      <th></th>\n",
              "      <th></th>\n",
              "      <th></th>\n",
              "      <th></th>\n",
              "      <th></th>\n",
              "      <th></th>\n",
              "    </tr>\n",
              "  </thead>\n",
              "  <tbody>\n",
              "    <tr>\n",
              "      <th>강남구</th>\n",
              "      <td>3626398</td>\n",
              "      <td>7</td>\n",
              "      <td>544055</td>\n",
              "      <td>39500000.0</td>\n",
              "      <td>9.180754</td>\n",
              "      <td>666.549889</td>\n",
              "    </tr>\n",
              "    <tr>\n",
              "      <th>강동구</th>\n",
              "      <td>1526390</td>\n",
              "      <td>7</td>\n",
              "      <td>463998</td>\n",
              "      <td>24590000.0</td>\n",
              "      <td>6.207361</td>\n",
              "      <td>328.964780</td>\n",
              "    </tr>\n",
              "    <tr>\n",
              "      <th>강북구</th>\n",
              "      <td>3714902</td>\n",
              "      <td>4</td>\n",
              "      <td>311569</td>\n",
              "      <td>23600000.0</td>\n",
              "      <td>15.741110</td>\n",
              "      <td>1192.320802</td>\n",
              "    </tr>\n",
              "    <tr>\n",
              "      <th>강서구</th>\n",
              "      <td>2194154</td>\n",
              "      <td>9</td>\n",
              "      <td>585901</td>\n",
              "      <td>41440000.0</td>\n",
              "      <td>5.294773</td>\n",
              "      <td>374.492278</td>\n",
              "    </tr>\n",
              "    <tr>\n",
              "      <th>관악구</th>\n",
              "      <td>10431453</td>\n",
              "      <td>2</td>\n",
              "      <td>509803</td>\n",
              "      <td>29570000.0</td>\n",
              "      <td>35.277149</td>\n",
              "      <td>2046.173326</td>\n",
              "    </tr>\n",
              "  </tbody>\n",
              "</table>\n",
              "</div>"
            ],
            "text/plain": [
              "          sum  count      인구          면적       면적비율         인당면적\n",
              "지역                                                              \n",
              "강남구   3626398      7  544055  39500000.0   9.180754   666.549889\n",
              "강동구   1526390      7  463998  24590000.0   6.207361   328.964780\n",
              "강북구   3714902      4  311569  23600000.0  15.741110  1192.320802\n",
              "강서구   2194154      9  585901  41440000.0   5.294773   374.492278\n",
              "관악구  10431453      2  509803  29570000.0  35.277149  2046.173326"
            ]
          },
          "execution_count": 74,
          "metadata": {},
          "output_type": "execute_result"
        }
      ],
      "source": [
        "df.head()"
      ]
    },
    {
      "cell_type": "code",
      "execution_count": null,
      "id": "c8b1ca69",
      "metadata": {
        "id": "c8b1ca69",
        "outputId": "8c813c07-b522-41c8-93f4-07b0aa1b2e2e"
      },
      "outputs": [
        {
          "data": {
            "image/png": "[encoded data removed]",
            "text/plain": [
              "<Figure size 1200x800 with 1 Axes>"
            ]
          },
          "metadata": {},
          "output_type": "display_data"
        }
      ],
      "source": [
        "# 자치구별 공원 면적 비율\n",
        "df.면적비율.sort_values().plot(kind='barh',\n",
        "                          grid=True, figsize=(12,8))\n",
        "plt.title('자치구 공원면적비율(%)', size=15)\n",
        "plt.show()"
      ]
    },
    {
      "cell_type": "code",
      "execution_count": null,
      "id": "9a8b6d4b",
      "metadata": {
        "id": "9a8b6d4b",
        "outputId": "3e2c9616-d8d2-4e65-d78f-0806cf068065"
      },
      "outputs": [
        {
          "data": {
            "image/png": "[encoded data removed]",
            "text/plain": [
              "<Figure size 1200x800 with 1 Axes>"
            ]
          },
          "metadata": {},
          "output_type": "display_data"
        }
      ],
      "source": [
        "#인당 공원 면적\n",
        "df.인당면적.sort_values().plot(kind='barh',\n",
        "                          grid=True, figsize=(12,8))\n",
        "plt.title('자치구별 인당 공원면적', size=15)\n",
        "plt.show()"
      ]
    },
    {
      "cell_type": "code",
      "execution_count": null,
      "id": "96d6ecde",
      "metadata": {
        "id": "96d6ecde"
      },
      "outputs": [],
      "source": []
    }
  ],
  "metadata": {
    "kernelspec": {
      "display_name": "Python 3 (ipykernel)",
      "language": "python",
      "name": "python3"
    },
    "language_info": {
      "codemirror_mode": {
        "name": "ipython",
        "version": 3
      },
      "file_extension": ".py",
      "mimetype": "text/x-python",
      "name": "python",
      "nbconvert_exporter": "python",
      "pygments_lexer": "ipython3",
      "version": "3.8.7"
    },
    "colab": {
      "provenance": []
    }
  },
  "nbformat": 4,
  "nbformat_minor": 5
}